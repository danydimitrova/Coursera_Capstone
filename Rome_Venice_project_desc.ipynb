{
    "nbformat_minor": 1, 
    "cells": [
        {
            "source": "***Rome or Venice***\n\nRome or Venice - where to open the restaurant When somebody wants to open a restaurant, the main question is \"Where to locate the restaurant or which is the best place for it?\"\n\nOur client is bulgarian businessman whos willing is to open a restaurant in Italy. But his hesitaion is about the proper place - Rome or Venice. Will will try to give him a piece of advice which city is more proper for opening the restaurant.\n\n*Rome*\n\nRome is the capital city of Italy and a special comune (named Comune di Roma Capitale). Rome also serves as the capital of the Lazio region. With 2,868,782 residents in 1,285 km2 (496.1 sq mi), it is also the country's most populated comune. It is the fourth-most populous city in the European Union by population within city limits. It is the centre of the Metropolitan City of Rome, which has a population of 4.3 million residents. Rome is located in the central-western portion of the Italian Peninsula, within Lazio (Latium), along the shores of the Tiber. The Vatican City (the smallest country in the world) is an independent country inside the city boundaries of Rome, the only existing example of a country within a city: for this reason Rome has been often defined as capital of two states.\n\n*Venice*\n\nVenice is a city in northeastern Italy and the capital of the Veneto region. It is situated across a group of 118 small islands that are separated by canals and linked by over 400 bridges. The islands are located in the shallow Venetian Lagoon, an enclosed bay that lies between the mouths of the Po and the Piave rivers (more exactly between the Brenta and the Sile). Parts of Venice are renowned for the beauty of their settings, their architecture, and artwork. The lagoon and a part of the city are listed as a UNESCO World Heritage Site.\n\nIn this project I will use geolocation data about these two cities. \nThe target of the project will be to decide which city to chose for restaurant opening based on the business density calculation.\n\nFor business density calculation I will apply Density-based spatial clustering of applications with noise (DBSCAN). It is a data clustering algorithm that is commonly used in data mining and machine learning.\n\nBased on a set of points, DBSCAN groups together points that are close to each other based on a distance measurement (usually Euclidean distance) and a minimum number of points. It also marks as outliers the points that are in low-density regions.\n\nThe main information which I need is:\n\n- The information about latitude and longitude of Rome and Venice:\n*Rome* - Latitude and longitude coordinates are: 41.902782, 12.496366\n*Venice* - Latitude and longitude coordinates are: 45.444958, 12.328463\n\n- From https://foursquare.com/developers/apps I will extract data about Rome and Venice (query food). \nThe scope of the data is Location, Venue, Latitude, Longitude, Category.\n\nThe main steps which I will follow are:\n1. To import the necessary libraries;\n2. To get the location of the city;\n3. To get the dataframe of the place using foursqare api;\n4. To create a cluster map;\n5. To get the location of Rome and Venice and make a map to display the two cities;\n6. To create the sample matrix from the location of each venues;\n7. To apply the DBSCAN algoritm to cluster data;\n8. To compare the result from the DBSCAN algoritm.\n9. To extract the conclusion.\n\n\n\n", 
            "cell_type": "markdown", 
            "metadata": {
                "collapsed": true
            }
        }, 
        {
            "execution_count": null, 
            "cell_type": "code", 
            "metadata": {}, 
            "outputs": [], 
            "source": ""
        }
    ], 
    "metadata": {
        "kernelspec": {
            "display_name": "Python 3.5", 
            "name": "python3", 
            "language": "python"
        }, 
        "language_info": {
            "mimetype": "text/x-python", 
            "nbconvert_exporter": "python", 
            "version": "3.5.5", 
            "name": "python", 
            "file_extension": ".py", 
            "pygments_lexer": "ipython3", 
            "codemirror_mode": {
                "version": 3, 
                "name": "ipython"
            }
        }
    }, 
    "nbformat": 4
}